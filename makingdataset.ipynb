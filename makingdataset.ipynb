{
 "cells": [
  {
   "cell_type": "markdown",
   "id": "1e86ff4d",
   "metadata": {},
   "source": [
    "anomaly_dataset/normal/      # Only forest images\n",
    "\n",
    "anomaly_dataset/anomaly/     # All other categories\n"
   ]
  },
  {
   "cell_type": "code",
   "execution_count": 3,
   "id": "b83d9c3d",
   "metadata": {},
   "outputs": [
    {
     "name": "stdout",
     "output_type": "stream",
     "text": [
      "Anomaly dataset created!\n"
     ]
    }
   ],
   "source": [
    "import os\n",
    "import shutil\n",
    "from pathlib import Path\n",
    "import random\n",
    "\n",
    "# Set base directory of the dataset\n",
    "base_dir = \"archive/seg_test/seg_test\"\n",
    "\n",
    "# Define classes\n",
    "normal_class = \"forest\"\n",
    "anomaly_classes = [\"buildings\", \"glacier\", \"mountain\", \"sea\", \"street\"]\n",
    "\n",
    "# Output directories\n",
    "output_dir = \"anomaly_dataset\"\n",
    "normal_dir = os.path.join(output_dir, \"normal\")\n",
    "anomaly_dir = os.path.join(output_dir, \"anomaly\")\n",
    "\n",
    "# Create output folders\n",
    "os.makedirs(normal_dir, exist_ok=True)\n",
    "os.makedirs(anomaly_dir, exist_ok=True)\n",
    "\n",
    "# Copy normal class images\n",
    "for img_name in os.listdir(os.path.join(base_dir, normal_class)):\n",
    "    src = os.path.join(base_dir, normal_class, img_name)\n",
    "    dst = os.path.join(normal_dir, img_name)\n",
    "    shutil.copy(src, dst)\n",
    "\n",
    "# Copy anomaly class images\n",
    "for cls in anomaly_classes:\n",
    "    class_path = os.path.join(base_dir, cls)\n",
    "    for img_name in os.listdir(class_path):\n",
    "        src = os.path.join(class_path, img_name)\n",
    "        dst = os.path.join(anomaly_dir, f\"{cls}_{img_name}\")\n",
    "        shutil.copy(src, dst)\n",
    "\n",
    "print(\"Anomaly dataset created!\")\n"
   ]
  },
  {
   "cell_type": "code",
   "execution_count": 6,
   "id": "b522f57e",
   "metadata": {},
   "outputs": [
    {
     "name": "stdout",
     "output_type": "stream",
     "text": [
      "Train/Test split complete.\n",
      "Train -> Normal: 237, Anomaly: 150\n",
      "Test  -> Normal: 237, Anomaly: 150\n"
     ]
    }
   ],
   "source": [
    "import os\n",
    "import random\n",
    "import shutil\n",
    "\n",
    "# Parameters\n",
    "data_dir = \"anomaly_dataset\"\n",
    "output_dir = \"split_anomaly_dataset\"\n",
    "c = 0.1  # Proportion of anomalies in each set\n",
    "\n",
    "# Read and shuffle image file paths\n",
    "normal_images = [os.path.join(data_dir, \"normal\", img) for img in os.listdir(os.path.join(data_dir, \"normal\"))]\n",
    "anomaly_images = [os.path.join(data_dir, \"anomaly\", img) for img in os.listdir(os.path.join(data_dir, \"anomaly\"))]\n",
    "\n",
    "random.shuffle(normal_images)\n",
    "random.shuffle(anomaly_images)\n",
    "\n",
    "# Decide how many images go into each split\n",
    "total_samples_per_split = min(len(normal_images) + len(anomaly_images), 20000) // 2\n",
    "num_anomalies = int(c * total_samples_per_split)\n",
    "num_normals = total_samples_per_split - num_anomalies\n",
    "\n",
    "# Ensure we don't request more images than we have\n",
    "num_normals = min(num_normals, len(normal_images) // 2)\n",
    "num_anomalies = min(num_anomalies, len(anomaly_images) // 2)\n",
    "\n",
    "# Now build splits\n",
    "train_normal = normal_images[:num_normals]\n",
    "test_normal = normal_images[num_normals:num_normals*2]\n",
    "\n",
    "train_anomaly = anomaly_images[:num_anomalies]\n",
    "test_anomaly = anomaly_images[num_anomalies:num_anomalies*2]\n",
    "\n",
    "# Helper to copy files\n",
    "def copy_files(file_list, target_dir):\n",
    "    os.makedirs(target_dir, exist_ok=True)\n",
    "    for f in file_list:\n",
    "        shutil.copy(f, os.path.join(target_dir, os.path.basename(f)))\n",
    "\n",
    "# Copy all files to split folders\n",
    "copy_files(train_normal, os.path.join(output_dir, \"train\", \"normal\"))\n",
    "copy_files(train_anomaly, os.path.join(output_dir, \"train\", \"anomaly\"))\n",
    "copy_files(test_normal, os.path.join(output_dir, \"test\", \"normal\"))\n",
    "copy_files(test_anomaly, os.path.join(output_dir, \"test\", \"anomaly\"))\n",
    "\n",
    "print(f\"Train/Test split complete.\")\n",
    "print(f\"Train -> Normal: {len(train_normal)}, Anomaly: {len(train_anomaly)}\")\n",
    "print(f\"Test  -> Normal: {len(test_normal)}, Anomaly: {len(test_anomaly)}\")\n"
   ]
  },
  {
   "cell_type": "code",
   "execution_count": null,
   "id": "717d7331",
   "metadata": {},
   "outputs": [],
   "source": []
  }
 ],
 "metadata": {
  "kernelspec": {
   "display_name": "venv",
   "language": "python",
   "name": "python3"
  },
  "language_info": {
   "codemirror_mode": {
    "name": "ipython",
    "version": 3
   },
   "file_extension": ".py",
   "mimetype": "text/x-python",
   "name": "python",
   "nbconvert_exporter": "python",
   "pygments_lexer": "ipython3",
   "version": "3.10.16"
  }
 },
 "nbformat": 4,
 "nbformat_minor": 5
}
